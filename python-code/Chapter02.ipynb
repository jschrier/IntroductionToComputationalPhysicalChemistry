{
 "cells": [
  {
   "attachments": {},
   "cell_type": "markdown",
   "metadata": {},
   "source": [
    "# 2.2 THE 1D PARTICLE IN A BOX\n",
    "## 2.2.1 Basic implementation in Mathematica"
   ]
  },
  {
   "cell_type": "code",
   "execution_count": 6,
   "metadata": {},
   "outputs": [
    {
     "ename": "LinAlgError",
     "evalue": "0-dimensional array given. Array must be at least two-dimensional",
     "output_type": "error",
     "traceback": [
      "\u001b[0;31m---------------------------------------------------------------------------\u001b[0m",
      "\u001b[0;31mLinAlgError\u001b[0m                               Traceback (most recent call last)",
      "\u001b[1;32m/Users/jschrier/Documents/GitHub/IntroductionToComputationalPhysicalChemistry/python-code/Chapter02.ipynb Cell 2\u001b[0m in \u001b[0;36m<cell line: 26>\u001b[0;34m()\u001b[0m\n\u001b[1;32m     <a href='vscode-notebook-cell:/Users/jschrier/Documents/GitHub/IntroductionToComputationalPhysicalChemistry/python-code/Chapter02.ipynb#W2sZmlsZQ%3D%3D?line=22'>23</a>\u001b[0m     (V(i\u001b[39m*\u001b[39ma) \u001b[39m+\u001b[39m \u001b[39m2\u001b[39m\u001b[39m*\u001b[39mt) \u001b[39m*\u001b[39m np\u001b[39m.\u001b[39mkron(i, j) \u001b[39m-\u001b[39m t \u001b[39m*\u001b[39m np\u001b[39m.\u001b[39mkron(i, j\u001b[39m-\u001b[39m\u001b[39m1\u001b[39m) \u001b[39m-\u001b[39m t \u001b[39m*\u001b[39m np\u001b[39m.\u001b[39mkron(i, j\u001b[39m+\u001b[39m\u001b[39m1\u001b[39m)\n\u001b[1;32m     <a href='vscode-notebook-cell:/Users/jschrier/Documents/GitHub/IntroductionToComputationalPhysicalChemistry/python-code/Chapter02.ipynb#W2sZmlsZQ%3D%3D?line=24'>25</a>\u001b[0m hMatr \u001b[39m=\u001b[39m np\u001b[39m.\u001b[39mfromfunction(h, (nPoints, nPoints), a \u001b[39m=\u001b[39m \u001b[39m1\u001b[39m, t \u001b[39m=\u001b[39m \u001b[39m1\u001b[39m)\n\u001b[0;32m---> <a href='vscode-notebook-cell:/Users/jschrier/Documents/GitHub/IntroductionToComputationalPhysicalChemistry/python-code/Chapter02.ipynb#W2sZmlsZQ%3D%3D?line=25'>26</a>\u001b[0m eigenvalues \u001b[39m=\u001b[39m np\u001b[39m.\u001b[39;49mlinalg\u001b[39m.\u001b[39;49meig(hMatr)\n\u001b[1;32m     <a href='vscode-notebook-cell:/Users/jschrier/Documents/GitHub/IntroductionToComputationalPhysicalChemistry/python-code/Chapter02.ipynb#W2sZmlsZQ%3D%3D?line=27'>28</a>\u001b[0m \u001b[39mprint\u001b[39m(\u001b[39m\"\u001b[39m\u001b[39mcomputed: \u001b[39m\u001b[39m\"\u001b[39m, eigenvalues[\u001b[39m-\u001b[39m\u001b[39m1\u001b[39m], \u001b[39m\"\u001b[39m\u001b[39m   exact: \u001b[39m\u001b[39m\"\u001b[39m, energy1DPIB(\u001b[39m1\u001b[39m, L) )\n",
      "File \u001b[0;32m<__array_function__ internals>:5\u001b[0m, in \u001b[0;36meig\u001b[0;34m(*args, **kwargs)\u001b[0m\n",
      "File \u001b[0;32m/opt/anaconda3/lib/python3.9/site-packages/numpy/linalg/linalg.py:1315\u001b[0m, in \u001b[0;36meig\u001b[0;34m(a)\u001b[0m\n\u001b[1;32m   1189\u001b[0m \u001b[39m\"\"\"\u001b[39;00m\n\u001b[1;32m   1190\u001b[0m \u001b[39mCompute the eigenvalues and right eigenvectors of a square array.\u001b[39;00m\n\u001b[1;32m   1191\u001b[0m \n\u001b[0;32m   (...)\u001b[0m\n\u001b[1;32m   1312\u001b[0m \n\u001b[1;32m   1313\u001b[0m \u001b[39m\"\"\"\u001b[39;00m\n\u001b[1;32m   1314\u001b[0m a, wrap \u001b[39m=\u001b[39m _makearray(a)\n\u001b[0;32m-> 1315\u001b[0m _assert_stacked_2d(a)\n\u001b[1;32m   1316\u001b[0m _assert_stacked_square(a)\n\u001b[1;32m   1317\u001b[0m _assert_finite(a)\n",
      "File \u001b[0;32m/opt/anaconda3/lib/python3.9/site-packages/numpy/linalg/linalg.py:196\u001b[0m, in \u001b[0;36m_assert_stacked_2d\u001b[0;34m(*arrays)\u001b[0m\n\u001b[1;32m    194\u001b[0m \u001b[39mfor\u001b[39;00m a \u001b[39min\u001b[39;00m arrays:\n\u001b[1;32m    195\u001b[0m     \u001b[39mif\u001b[39;00m a\u001b[39m.\u001b[39mndim \u001b[39m<\u001b[39m \u001b[39m2\u001b[39m:\n\u001b[0;32m--> 196\u001b[0m         \u001b[39mraise\u001b[39;00m LinAlgError(\u001b[39m'\u001b[39m\u001b[39m%d\u001b[39;00m\u001b[39m-dimensional array given. Array must be \u001b[39m\u001b[39m'\u001b[39m\n\u001b[1;32m    197\u001b[0m                 \u001b[39m'\u001b[39m\u001b[39mat least two-dimensional\u001b[39m\u001b[39m'\u001b[39m \u001b[39m%\u001b[39m a\u001b[39m.\u001b[39mndim)\n",
      "\u001b[0;31mLinAlgError\u001b[0m: 0-dimensional array given. Array must be at least two-dimensional"
     ]
    }
   ],
   "source": [
    "import numpy as np\n",
    "\n",
    "def psi1DPIB(n, x, L):\n",
    "    return np.sqrt(2.0/L) * np.sin(n * np.pi * x / L)\n",
    "\n",
    "def energy1DPIB(n, L, m:1, hbar:1):\n",
    "    return (hbar**2 * np.pi**2 * n**2) / (2 * m * L**2)\n",
    "\n",
    "# define constants\n",
    "hbar = 1                # define variables in atomic units\n",
    "nPoints = 100           # how many points on the finite grid\n",
    "L = 5                   # length of the box in Bohr radii\n",
    "m = 1                   # set m = 1 me\n",
    "a = L / (nPoints +1)     # spacing between points\n",
    "t = hbar**2/ (2 * m * a**2)  # constant for finite difference\n",
    "\n",
    "# define the potential as zero everywhere for 1 D PIB\n",
    "def V(x):\n",
    "    return 0 \n",
    "\n",
    "# set up the Hamiltonian matrix\n",
    "def h(i, j, a, t):\n",
    "    (V(i*a) + 2*t) * np.kron(i, j) - t * np.kron(i, j-1) - t * np.kron(i, j+1)\n",
    "\n",
    "hMatr = np.fromfunction(h, (nPoints, nPoints), a = 1, t = 1)\n",
    "eigenvalues = np.linalg.eig(hMatr)\n",
    "\n",
    "print(\"computed: \", eigenvalues[-1], \"   exact: \", energy1DPIB(1, L) )\n"
   ]
  },
  {
   "attachments": {},
   "cell_type": "markdown",
   "metadata": {},
   "source": [
    "## 2.2.3 How accurate is the numerical approximation?"
   ]
  },
  {
   "cell_type": "code",
   "execution_count": null,
   "metadata": {},
   "outputs": [],
   "source": [
    "print(\"calculated: \", eigenvalues[-5:])\n",
    "print(\"exact:\",  [energy1DPIB(n, L) for n in range(1, 6)])\n",
    "\n"
   ]
  },
  {
   "cell_type": "code",
   "execution_count": null,
   "metadata": {},
   "outputs": [],
   "source": [
    "finite_diff_results = eigenvalues.reverse()\n",
    "exact_results =  [energy1DPIB(n, L) for n in range(1, 101)]"
   ]
  }
 ],
 "metadata": {
  "kernelspec": {
   "display_name": "base",
   "language": "python",
   "name": "python3"
  },
  "language_info": {
   "codemirror_mode": {
    "name": "ipython",
    "version": 3
   },
   "file_extension": ".py",
   "mimetype": "text/x-python",
   "name": "python",
   "nbconvert_exporter": "python",
   "pygments_lexer": "ipython3",
   "version": "3.9.12 (main, Apr  5 2022, 01:53:17) \n[Clang 12.0.0 ]"
  },
  "orig_nbformat": 4,
  "vscode": {
   "interpreter": {
    "hash": "40d3a090f54c6569ab1632332b64b2c03c39dcf918b08424e98f38b5ae0af88f"
   }
  }
 },
 "nbformat": 4,
 "nbformat_minor": 2
}
